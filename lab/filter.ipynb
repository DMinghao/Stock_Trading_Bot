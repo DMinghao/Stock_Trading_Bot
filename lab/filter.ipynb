{
 "metadata": {
  "language_info": {
   "codemirror_mode": {
    "name": "ipython",
    "version": 3
   },
   "file_extension": ".py",
   "mimetype": "text/x-python",
   "name": "python",
   "nbconvert_exporter": "python",
   "pygments_lexer": "ipython3",
   "version": "3.8.5-final"
  },
  "orig_nbformat": 2,
  "kernelspec": {
   "name": "python3",
   "display_name": "Python 3.8.5 64-bit ('venv')",
   "metadata": {
    "interpreter": {
     "hash": "89f5712a11ec2aefb5944da36725e7f534b9bba6ae57721d205ed68f89d8d2bd"
    }
   }
  }
 },
 "nbformat": 4,
 "nbformat_minor": 2,
 "cells": [
  {
   "cell_type": "code",
   "execution_count": 1,
   "metadata": {},
   "outputs": [],
   "source": [
    "import json \n",
    "import os\n",
    "from dotenv import load_dotenv\n",
    "import alpaca_trade_api as tradeapi\n",
    "\n",
    "load_dotenv(\"../config/.env\")\n",
    "\n",
    "APCA_API_KEY_ID = os.getenv('APCA_API_KEY_ID')\n",
    "APCA_API_SECRET_KEY = os.getenv('APCA_API_SECRET_KEY')\n",
    "APCA_API_PAPER_BASE_URL = os.getenv('APCA_API_PAPER_BASE_URL')"
   ]
  },
  {
   "cell_type": "code",
   "execution_count": 2,
   "metadata": {},
   "outputs": [
    {
     "output_type": "stream",
     "name": "stdout",
     "text": [
      "9128\n"
     ]
    },
    {
     "output_type": "execute_result",
     "data": {
      "text/plain": [
       "Asset({   'class': 'us_equity',\n",
       "    'easy_to_borrow': True,\n",
       "    'exchange': 'NYSE',\n",
       "    'id': '38515140-4e0e-4ec4-bb1b-0c2994491efc',\n",
       "    'marginable': True,\n",
       "    'name': 'AMBEV S.A.',\n",
       "    'shortable': True,\n",
       "    'status': 'active',\n",
       "    'symbol': 'ABEV',\n",
       "    'tradable': True})"
      ]
     },
     "metadata": {},
     "execution_count": 2
    }
   ],
   "source": [
    "conn = tradeapi.REST(APCA_API_KEY_ID, APCA_API_SECRET_KEY, APCA_API_PAPER_BASE_URL, 'v2')\n",
    "universe = conn.list_assets(status='active', asset_class='us_equity')\n",
    "print(len(universe))\n",
    "universe[0]"
   ]
  },
  {
   "cell_type": "code",
   "execution_count": 3,
   "metadata": {},
   "outputs": [
    {
     "output_type": "stream",
     "name": "stdout",
     "text": [
      "4466\n"
     ]
    },
    {
     "output_type": "execute_result",
     "data": {
      "text/plain": [
       "{'exchange': 'NYSE', 'symbol': 'ABEV'}"
      ]
     },
     "metadata": {},
     "execution_count": 3
    }
   ],
   "source": [
    "universe = [{'exchange':x.exchange, 'symbol':x.symbol} for x in universe if x.shortable == True and x.tradable == True]\n",
    "print(len(universe))\n",
    "universe[0]"
   ]
  },
  {
   "cell_type": "code",
   "execution_count": 4,
   "metadata": {
    "tags": []
   },
   "outputs": [
    {
     "output_type": "stream",
     "name": "stdout",
     "text": [
      "4466\nWall time: 28.4 s\n"
     ]
    },
    {
     "output_type": "execute_result",
     "data": {
      "text/plain": [
       "{'exchange': 'NYSE',\n",
       " 'symbol': 'ABEV',\n",
       " 'rating': {'RECOMMENDATION': 'BUY', 'BUY': 13, 'SELL': 5, 'NEUTRAL': 10}}"
      ]
     },
     "metadata": {},
     "execution_count": 4
    }
   ],
   "source": [
    "%%time\n",
    "from tradingview_ta import TA_Handler, Interval\n",
    "import threading\n",
    "\n",
    "\n",
    "def getSummary(i): \n",
    "    handler = TA_Handler()\n",
    "    handler.set_screener_as_stock(\"america\")\n",
    "    handler.set_interval_as(Interval.INTERVAL_1_DAY)\n",
    "    handler.set_exchange_as_crypto_or_stock(universe[i]['exchange'])\n",
    "    handler.set_symbol_as(universe[i]['symbol'])\n",
    "    try:\n",
    "        universe[i]['rating'] = handler.get_analysis().summary\n",
    "    except: \n",
    "        pass\n",
    "\n",
    "threads = []\n",
    "for i in range(len(universe)):\n",
    "    x = threading.Thread(target=getSummary, args=(i,))\n",
    "    threads.append(x)\n",
    "    x.start()\n",
    "# for thread in enumerate(threads):\n",
    "#     thread.join()\n",
    "\n",
    "print(len(universe))\n",
    "universe[0]"
   ]
  },
  {
   "cell_type": "code",
   "execution_count": 5,
   "metadata": {},
   "outputs": [
    {
     "output_type": "stream",
     "name": "stdout",
     "text": [
      "2794\n240\n54\n819\n91\n{'exchange': 'NASDAQ', 'symbol': 'ATVI', 'rating': {'RECOMMENDATION': 'BUY', 'BUY': 19, 'SELL': 3, 'NEUTRAL': 6}}\n{'exchange': 'NYSE', 'symbol': 'AMH', 'rating': {'RECOMMENDATION': 'STRONG_BUY', 'BUY': 20, 'SELL': 0, 'NEUTRAL': 8}}\n{'exchange': 'NYSE', 'symbol': 'AON', 'rating': {'RECOMMENDATION': 'NEUTRAL', 'BUY': 8, 'SELL': 10, 'NEUTRAL': 10}}\n{'exchange': 'AMEX', 'symbol': 'CQP', 'rating': {'RECOMMENDATION': 'SELL', 'BUY': 4, 'SELL': 19, 'NEUTRAL': 5}}\n{'exchange': 'NASDAQ', 'symbol': 'CXDC', 'rating': {'RECOMMENDATION': 'STRONG_SELL', 'BUY': 0, 'SELL': 20, 'NEUTRAL': 8}}\n"
     ]
    }
   ],
   "source": [
    "buyList = [\n",
    "    x for x in universe \n",
    "    if 'rating' in x \n",
    "    and x['rating']['RECOMMENDATION'] == 'BUY'\n",
    "]\n",
    "buyList.sort(key=lambda x: x['rating']['BUY'], reverse = True)\n",
    "buyStrongList = [\n",
    "    x for x in universe \n",
    "    if 'rating' in x \n",
    "    and x['rating']['RECOMMENDATION'] == 'STRONG_BUY'\n",
    "]\n",
    "buyStrongList.sort(key=lambda x: x['rating']['BUY'], reverse = True)\n",
    "nutrualList = [\n",
    "    x for x in universe \n",
    "    if 'rating' in x \n",
    "    and x['rating']['RECOMMENDATION'] == 'NEUTRAL'\n",
    "]\n",
    "nutrualList.sort(key=lambda x: x['rating']['NEUTRAL'], reverse = True)\n",
    "sellList = [\n",
    "    x for x in universe \n",
    "    if 'rating' in x \n",
    "    and x['rating']['RECOMMENDATION'] == 'SELL'\n",
    "]\n",
    "sellList.sort(key=lambda x: x['rating']['SELL'], reverse = True)\n",
    "sellStrongList = [\n",
    "    x for x in universe \n",
    "    if 'rating' in x \n",
    "    and x['rating']['RECOMMENDATION'] == 'STRONG_SELL'\n",
    "]\n",
    "sellStrongList.sort(key=lambda x: x['rating']['SELL'], reverse = True)\n",
    "print(len(buyList))\n",
    "print(len(buyStrongList))\n",
    "print(len(nutrualList))\n",
    "print(len(sellList))\n",
    "print(len(sellStrongList))\n",
    "print(buyList[0])\n",
    "print(buyStrongList[0])\n",
    "print(nutrualList[0])\n",
    "print(sellList[0])\n",
    "print(sellStrongList[0])"
   ]
  },
  {
   "cell_type": "code",
   "execution_count": 6,
   "metadata": {},
   "outputs": [
    {
     "output_type": "execute_result",
     "data": {
      "text/plain": [
       "177"
      ]
     },
     "metadata": {},
     "execution_count": 6
    }
   ],
   "source": [
    "total = len(buyStrongList)+len(nutrualList)+len(sellStrongList)\n",
    "finalList = []\n",
    "finalList += buyStrongList[:int(len(buyStrongList)*(len(buyStrongList)/total))]\n",
    "finalList += nutrualList[:int(len(nutrualList)*(len(nutrualList)/total))]\n",
    "finalList += sellStrongList[:int(len(sellStrongList)*(len(sellStrongList)/total))]\n",
    "len([x['symbol'] for x in finalList])"
   ]
  },
  {
   "cell_type": "code",
   "execution_count": null,
   "metadata": {},
   "outputs": [],
   "source": []
  }
 ]
}